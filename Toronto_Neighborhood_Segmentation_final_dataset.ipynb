{
    "nbformat_minor": 1, 
    "cells": [
        {
            "execution_count": 1, 
            "cell_type": "code", 
            "metadata": {}, 
            "outputs": [], 
            "source": "from bs4 import BeautifulSoup\nimport pandas as pd\nimport requests"
        }, 
        {
            "execution_count": 2, 
            "cell_type": "code", 
            "metadata": {}, 
            "outputs": [], 
            "source": "src=requests.get('https://en.wikipedia.org/wiki/List_of_postal_codes_of_Canada:_M').text\nsoup = BeautifulSoup(src, 'html.parser')\njnk=soup.prettify()"
        }, 
        {
            "execution_count": 3, 
            "cell_type": "code", 
            "metadata": {}, 
            "outputs": [], 
            "source": "table_post=soup.find('table',class_='wikitable sortable')\ntable_rows=table_post.find_all('tr')\n#each tr tag within the table of postal codes have been retrieved as a list, from here continue to ,make the dataframe later using the rules mentioned in the coursera page"
        }, 
        {
            "execution_count": 4, 
            "cell_type": "code", 
            "metadata": {}, 
            "outputs": [], 
            "source": "df_toronto = pd.DataFrame(columns=['Postal Code','Borough','Neighborhood'])\n"
        }, 
        {
            "execution_count": 5, 
            "cell_type": "code", 
            "metadata": {}, 
            "outputs": [], 
            "source": "postal_codes=[]\nfor i in table_rows[1:]:\n    postal_codes.append(i.td.text)\npostal_codes=list(set(postal_codes)) #getting the unique postal codes   "
        }, 
        {
            "execution_count": 6, 
            "cell_type": "code", 
            "metadata": {}, 
            "outputs": [], 
            "source": "dic_post={}\nfor i in postal_codes:\n    list_places=['']\n    dic_post[i]=list_places\n"
        }, 
        {
            "execution_count": 7, 
            "cell_type": "code", 
            "metadata": {}, 
            "outputs": [], 
            "source": "for i in table_rows[1:]:\n    row=i.find_all('td')\n    temp=dic_post[row[0].text]\n    temp[0]=row[1].text\n    emp_list=[]\n    temp.append(emp_list)\n    temp=temp[0:2]\n    dic_post[row[0].text]=temp\n    \n"
        }, 
        {
            "execution_count": 8, 
            "cell_type": "code", 
            "metadata": {}, 
            "outputs": [], 
            "source": "for i in table_rows[1:]:\n    row=i.find_all('td')\n    new_list=dic_post[row[0].text]\n    temp=new_list[1]\n    temp.append(row[2].text.strip('\\n'))\n    new_list[1]=temp\n    dic_post[row[0].text]=new_list\n"
        }, 
        {
            "execution_count": 9, 
            "cell_type": "code", 
            "metadata": {}, 
            "outputs": [
                {
                    "execution_count": 9, 
                    "metadata": {}, 
                    "data": {
                        "text/html": "<div>\n<style scoped>\n    .dataframe tbody tr th:only-of-type {\n        vertical-align: middle;\n    }\n\n    .dataframe tbody tr th {\n        vertical-align: top;\n    }\n\n    .dataframe thead th {\n        text-align: right;\n    }\n</style>\n<table border=\"1\" class=\"dataframe\">\n  <thead>\n    <tr style=\"text-align: right;\">\n      <th></th>\n      <th>Postal Code</th>\n      <th>Borough</th>\n      <th>Neighborhood</th>\n    </tr>\n  </thead>\n  <tbody>\n    <tr>\n      <th>0</th>\n      <td>M2R</td>\n      <td>North York</td>\n      <td>[Willowdale West]</td>\n    </tr>\n    <tr>\n      <th>1</th>\n      <td>M2B</td>\n      <td>Not assigned</td>\n      <td>[Not assigned]</td>\n    </tr>\n    <tr>\n      <th>2</th>\n      <td>M9Z</td>\n      <td>Not assigned</td>\n      <td>[Not assigned]</td>\n    </tr>\n    <tr>\n      <th>3</th>\n      <td>M6Z</td>\n      <td>Not assigned</td>\n      <td>[Not assigned]</td>\n    </tr>\n    <tr>\n      <th>4</th>\n      <td>M1C</td>\n      <td>Scarborough</td>\n      <td>[Highland Creek, Rouge Hill, Port Union]</td>\n    </tr>\n  </tbody>\n</table>\n</div>", 
                        "text/plain": "  Postal Code       Borough                              Neighborhood\n0         M2R    North York                         [Willowdale West]\n1         M2B  Not assigned                            [Not assigned]\n2         M9Z  Not assigned                            [Not assigned]\n3         M6Z  Not assigned                            [Not assigned]\n4         M1C   Scarborough  [Highland Creek, Rouge Hill, Port Union]"
                    }, 
                    "output_type": "execute_result"
                }
            ], 
            "source": "df_toronto = pd.DataFrame(columns=['Postal Code','Borough','Neighborhood'])\n#Generating the pd dataframe\n#Also assigning Borough name as the neighborhood names to the places with neighborhood name given as not assigned\nfor i in dic_post:\n    tmp_list=dic_post[i]\n    neighb_list=tmp_list[1]\n    neighb_list = [w.replace('Not assigned', tmp_list[0]) for w in neighb_list]  #Assigning the borough name as the neighborhood name for neighborhoods with not assigned\n    df_toronto=df_toronto.append({'Postal Code' : i , 'Borough' : tmp_list[0],'Neighborhood':neighb_list} , ignore_index=True)\ndf_toronto.head()"
        }, 
        {
            "execution_count": 10, 
            "cell_type": "code", 
            "metadata": {}, 
            "outputs": [
                {
                    "execution_count": 10, 
                    "metadata": {}, 
                    "data": {
                        "text/html": "<div>\n<style scoped>\n    .dataframe tbody tr th:only-of-type {\n        vertical-align: middle;\n    }\n\n    .dataframe tbody tr th {\n        vertical-align: top;\n    }\n\n    .dataframe thead th {\n        text-align: right;\n    }\n</style>\n<table border=\"1\" class=\"dataframe\">\n  <thead>\n    <tr style=\"text-align: right;\">\n      <th></th>\n      <th>Postal Code</th>\n      <th>Borough</th>\n      <th>Neighborhood</th>\n    </tr>\n  </thead>\n  <tbody>\n    <tr>\n      <th>0</th>\n      <td>M2R</td>\n      <td>North York</td>\n      <td>[Willowdale West]</td>\n    </tr>\n    <tr>\n      <th>4</th>\n      <td>M1C</td>\n      <td>Scarborough</td>\n      <td>[Highland Creek, Rouge Hill, Port Union]</td>\n    </tr>\n    <tr>\n      <th>5</th>\n      <td>M4B</td>\n      <td>East York</td>\n      <td>[Woodbine Gardens, Parkview Hill]</td>\n    </tr>\n    <tr>\n      <th>6</th>\n      <td>M1M</td>\n      <td>Scarborough</td>\n      <td>[Cliffcrest, Cliffside, Scarborough Village West]</td>\n    </tr>\n    <tr>\n      <th>8</th>\n      <td>M4P</td>\n      <td>Central Toronto</td>\n      <td>[Davisville North]</td>\n    </tr>\n  </tbody>\n</table>\n</div>", 
                        "text/plain": "  Postal Code          Borough  \\\n0         M2R       North York   \n4         M1C      Scarborough   \n5         M4B        East York   \n6         M1M      Scarborough   \n8         M4P  Central Toronto   \n\n                                        Neighborhood  \n0                                  [Willowdale West]  \n4           [Highland Creek, Rouge Hill, Port Union]  \n5                  [Woodbine Gardens, Parkview Hill]  \n6  [Cliffcrest, Cliffside, Scarborough Village West]  \n8                                 [Davisville North]  "
                    }, 
                    "output_type": "execute_result"
                }
            ], 
            "source": "df_toronto=df_toronto[df_toronto['Borough']!='Not assigned'] #removing all the postal codes that are not assigned\ndf_toronto.head()"
        }, 
        {
            "execution_count": 11, 
            "cell_type": "code", 
            "metadata": {}, 
            "outputs": [], 
            "source": "neighb_tmp=df_toronto['Neighborhood'] #converting the neighborhood column from a list to neighborhood names split by ,\ni=0\nfin_neighb_tmp=[]\nfor i in neighb_tmp:\n    tmp=i\n    fin_neighb_tmp.append(','.join(tmp))\ndf_toronto['Neighborhood']=fin_neighb_tmp"
        }, 
        {
            "execution_count": 12, 
            "cell_type": "code", 
            "metadata": {}, 
            "outputs": [
                {
                    "execution_count": 12, 
                    "metadata": {}, 
                    "data": {
                        "text/html": "<div>\n<style scoped>\n    .dataframe tbody tr th:only-of-type {\n        vertical-align: middle;\n    }\n\n    .dataframe tbody tr th {\n        vertical-align: top;\n    }\n\n    .dataframe thead th {\n        text-align: right;\n    }\n</style>\n<table border=\"1\" class=\"dataframe\">\n  <thead>\n    <tr style=\"text-align: right;\">\n      <th></th>\n      <th>Postal Code</th>\n      <th>Borough</th>\n      <th>Neighborhood</th>\n    </tr>\n  </thead>\n  <tbody>\n    <tr>\n      <th>0</th>\n      <td>M2R</td>\n      <td>North York</td>\n      <td>Willowdale West</td>\n    </tr>\n    <tr>\n      <th>4</th>\n      <td>M1C</td>\n      <td>Scarborough</td>\n      <td>Highland Creek,Rouge Hill,Port Union</td>\n    </tr>\n    <tr>\n      <th>5</th>\n      <td>M4B</td>\n      <td>East York</td>\n      <td>Woodbine Gardens,Parkview Hill</td>\n    </tr>\n    <tr>\n      <th>6</th>\n      <td>M1M</td>\n      <td>Scarborough</td>\n      <td>Cliffcrest,Cliffside,Scarborough Village West</td>\n    </tr>\n    <tr>\n      <th>8</th>\n      <td>M4P</td>\n      <td>Central Toronto</td>\n      <td>Davisville North</td>\n    </tr>\n  </tbody>\n</table>\n</div>", 
                        "text/plain": "  Postal Code          Borough                                   Neighborhood\n0         M2R       North York                                Willowdale West\n4         M1C      Scarborough           Highland Creek,Rouge Hill,Port Union\n5         M4B        East York                 Woodbine Gardens,Parkview Hill\n6         M1M      Scarborough  Cliffcrest,Cliffside,Scarborough Village West\n8         M4P  Central Toronto                               Davisville North"
                    }, 
                    "output_type": "execute_result"
                }
            ], 
            "source": "#final dataframe after wrangling\ndf_toronto.head()"
        }, 
        {
            "execution_count": 27, 
            "cell_type": "code", 
            "metadata": {}, 
            "outputs": [], 
            "source": "#Now let's move onto getting the latitudes and longitudes of each borough in Toronto\ndf_lat=pd.read_csv('https://cocl.us/Geospatial_data')\ndf_lat.head()\ndf_lat_ind=df_lat.set_index('Postal Code')\n"
        }, 
        {
            "execution_count": 52, 
            "cell_type": "code", 
            "metadata": {}, 
            "outputs": [], 
            "source": "df_toronto['Latitude']=0 #Creating new columns latitude and longitude and setting the default value to be one\ndf_toronto['Longitude']=0\nlist_lat=[]\nlist_lon=[]\nfor index, row in df_toronto.iterrows():\n    list_lat.append(df_lat_ind.loc[row['Postal Code']][0])   #Iterating through the rows to get the corresponding Latitude and Longitude values for the postal codes available and storing them in a list\n    list_lon.append(df_lat_ind.loc[row['Postal Code']][1])\ndf_toronto['Latitude']=list_lat\ndf_toronto['Longitude']=list_lon  #assigning the lists to the columns"
        }, 
        {
            "execution_count": 59, 
            "cell_type": "code", 
            "metadata": {}, 
            "outputs": [
                {
                    "execution_count": 59, 
                    "metadata": {}, 
                    "data": {
                        "text/html": "<div>\n<style scoped>\n    .dataframe tbody tr th:only-of-type {\n        vertical-align: middle;\n    }\n\n    .dataframe tbody tr th {\n        vertical-align: top;\n    }\n\n    .dataframe thead th {\n        text-align: right;\n    }\n</style>\n<table border=\"1\" class=\"dataframe\">\n  <thead>\n    <tr style=\"text-align: right;\">\n      <th></th>\n      <th>Postal Code</th>\n      <th>Borough</th>\n      <th>Neighborhood</th>\n      <th>Latitude</th>\n      <th>Longitude</th>\n    </tr>\n  </thead>\n  <tbody>\n    <tr>\n      <th>0</th>\n      <td>M2R</td>\n      <td>North York</td>\n      <td>Willowdale West</td>\n      <td>43.782736</td>\n      <td>-79.442259</td>\n    </tr>\n    <tr>\n      <th>4</th>\n      <td>M1C</td>\n      <td>Scarborough</td>\n      <td>Highland Creek,Rouge Hill,Port Union</td>\n      <td>43.784535</td>\n      <td>-79.160497</td>\n    </tr>\n    <tr>\n      <th>5</th>\n      <td>M4B</td>\n      <td>East York</td>\n      <td>Woodbine Gardens,Parkview Hill</td>\n      <td>43.706397</td>\n      <td>-79.309937</td>\n    </tr>\n    <tr>\n      <th>6</th>\n      <td>M1M</td>\n      <td>Scarborough</td>\n      <td>Cliffcrest,Cliffside,Scarborough Village West</td>\n      <td>43.716316</td>\n      <td>-79.239476</td>\n    </tr>\n    <tr>\n      <th>8</th>\n      <td>M4P</td>\n      <td>Central Toronto</td>\n      <td>Davisville North</td>\n      <td>43.712751</td>\n      <td>-79.390197</td>\n    </tr>\n    <tr>\n      <th>13</th>\n      <td>M9P</td>\n      <td>Etobicoke</td>\n      <td>Westmount</td>\n      <td>43.696319</td>\n      <td>-79.532242</td>\n    </tr>\n    <tr>\n      <th>14</th>\n      <td>M5S</td>\n      <td>Downtown Toronto</td>\n      <td>Harbord,University of Toronto</td>\n      <td>43.662696</td>\n      <td>-79.400049</td>\n    </tr>\n    <tr>\n      <th>15</th>\n      <td>M9V</td>\n      <td>Etobicoke</td>\n      <td>Albion Gardens,Beaumond Heights,Humbergate,Jam...</td>\n      <td>43.739416</td>\n      <td>-79.588437</td>\n    </tr>\n    <tr>\n      <th>16</th>\n      <td>M5L</td>\n      <td>Downtown Toronto</td>\n      <td>Commerce Court,Victoria Hotel</td>\n      <td>43.648198</td>\n      <td>-79.379817</td>\n    </tr>\n    <tr>\n      <th>19</th>\n      <td>M1J</td>\n      <td>Scarborough</td>\n      <td>Scarborough Village</td>\n      <td>43.744734</td>\n      <td>-79.239476</td>\n    </tr>\n  </tbody>\n</table>\n</div>", 
                        "text/plain": "   Postal Code           Borough  \\\n0          M2R        North York   \n4          M1C       Scarborough   \n5          M4B         East York   \n6          M1M       Scarborough   \n8          M4P   Central Toronto   \n13         M9P         Etobicoke   \n14         M5S  Downtown Toronto   \n15         M9V         Etobicoke   \n16         M5L  Downtown Toronto   \n19         M1J       Scarborough   \n\n                                         Neighborhood   Latitude  Longitude  \n0                                     Willowdale West  43.782736 -79.442259  \n4                Highland Creek,Rouge Hill,Port Union  43.784535 -79.160497  \n5                      Woodbine Gardens,Parkview Hill  43.706397 -79.309937  \n6       Cliffcrest,Cliffside,Scarborough Village West  43.716316 -79.239476  \n8                                    Davisville North  43.712751 -79.390197  \n13                                          Westmount  43.696319 -79.532242  \n14                      Harbord,University of Toronto  43.662696 -79.400049  \n15  Albion Gardens,Beaumond Heights,Humbergate,Jam...  43.739416 -79.588437  \n16                      Commerce Court,Victoria Hotel  43.648198 -79.379817  \n19                                Scarborough Village  43.744734 -79.239476  "
                    }, 
                    "output_type": "execute_result"
                }
            ], 
            "source": "df_toronto.head(10) #Given here is the final Dataset that is to be used for the clustering "
        }, 
        {
            "execution_count": 58, 
            "cell_type": "code", 
            "metadata": {}, 
            "outputs": [
                {
                    "execution_count": 58, 
                    "metadata": {}, 
                    "data": {
                        "text/plain": "Latitude     43.706748\nLongitude   -79.594054\nName: M9W, dtype: float64"
                    }, 
                    "output_type": "execute_result"
                }
            ], 
            "source": ""
        }
    ], 
    "metadata": {
        "kernelspec": {
            "display_name": "Python 3.5", 
            "name": "python3", 
            "language": "python"
        }, 
        "language_info": {
            "mimetype": "text/x-python", 
            "nbconvert_exporter": "python", 
            "version": "3.5.5", 
            "name": "python", 
            "file_extension": ".py", 
            "pygments_lexer": "ipython3", 
            "codemirror_mode": {
                "version": 3, 
                "name": "ipython"
            }
        }
    }, 
    "nbformat": 4
}