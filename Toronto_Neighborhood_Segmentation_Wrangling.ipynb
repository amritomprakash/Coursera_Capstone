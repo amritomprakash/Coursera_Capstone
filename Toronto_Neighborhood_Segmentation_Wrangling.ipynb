{
    "nbformat_minor": 1, 
    "cells": [
        {
            "execution_count": 115, 
            "cell_type": "code", 
            "metadata": {}, 
            "outputs": [], 
            "source": "from bs4 import BeautifulSoup\nimport pandas as pd\nimport requests"
        }, 
        {
            "execution_count": 116, 
            "cell_type": "code", 
            "metadata": {}, 
            "outputs": [], 
            "source": "src=requests.get('https://en.wikipedia.org/wiki/List_of_postal_codes_of_Canada:_M').text\nsoup = BeautifulSoup(src, 'html.parser')\njnk=soup.prettify()"
        }, 
        {
            "execution_count": 117, 
            "cell_type": "code", 
            "metadata": {}, 
            "outputs": [], 
            "source": "table_post=soup.find('table',class_='wikitable sortable')\ntable_rows=table_post.find_all('tr')\n#each tr tag within the table of postal codes have been retrieved as a list, from here continue to ,make the dataframe later using the rules mentioned in the coursera page"
        }, 
        {
            "execution_count": 118, 
            "cell_type": "code", 
            "metadata": {}, 
            "outputs": [], 
            "source": "df_toronto = pd.DataFrame(columns=['Postal Code','Borough','Neighborhood'])\n"
        }, 
        {
            "execution_count": 119, 
            "cell_type": "code", 
            "metadata": {}, 
            "outputs": [], 
            "source": "postal_codes=[]\nfor i in table_rows[1:]:\n    postal_codes.append(i.td.text)\npostal_codes=list(set(postal_codes)) #getting the unique postal codes   "
        }, 
        {
            "execution_count": 120, 
            "cell_type": "code", 
            "metadata": {}, 
            "outputs": [], 
            "source": "dic_post={}\nfor i in postal_codes:\n    list_places=['']\n    dic_post[i]=list_places\n"
        }, 
        {
            "execution_count": 121, 
            "cell_type": "code", 
            "metadata": {}, 
            "outputs": [], 
            "source": "for i in table_rows[1:]:\n    row=i.find_all('td')\n    temp=dic_post[row[0].text]\n    temp[0]=row[1].text\n    emp_list=[]\n    temp.append(emp_list)\n    temp=temp[0:2]\n    dic_post[row[0].text]=temp\n    \n"
        }, 
        {
            "execution_count": 122, 
            "cell_type": "code", 
            "metadata": {}, 
            "outputs": [], 
            "source": "for i in table_rows[1:]:\n    row=i.find_all('td')\n    new_list=dic_post[row[0].text]\n    temp=new_list[1]\n    temp.append(row[2].text.strip('\\n'))\n    new_list[1]=temp\n    dic_post[row[0].text]=new_list\n"
        }, 
        {
            "execution_count": 123, 
            "cell_type": "code", 
            "metadata": {}, 
            "outputs": [
                {
                    "execution_count": 123, 
                    "metadata": {}, 
                    "data": {
                        "text/html": "<div>\n<style scoped>\n    .dataframe tbody tr th:only-of-type {\n        vertical-align: middle;\n    }\n\n    .dataframe tbody tr th {\n        vertical-align: top;\n    }\n\n    .dataframe thead th {\n        text-align: right;\n    }\n</style>\n<table border=\"1\" class=\"dataframe\">\n  <thead>\n    <tr style=\"text-align: right;\">\n      <th></th>\n      <th>Postal Code</th>\n      <th>Borough</th>\n      <th>Neighborhood</th>\n    </tr>\n  </thead>\n  <tbody>\n    <tr>\n      <th>0</th>\n      <td>M6P</td>\n      <td>West Toronto</td>\n      <td>[High Park, The Junction South]</td>\n    </tr>\n    <tr>\n      <th>1</th>\n      <td>M6L</td>\n      <td>North York</td>\n      <td>[Downsview, North Park, Upwood Park]</td>\n    </tr>\n    <tr>\n      <th>2</th>\n      <td>M2B</td>\n      <td>Not assigned</td>\n      <td>[Not assigned]</td>\n    </tr>\n    <tr>\n      <th>3</th>\n      <td>M9G</td>\n      <td>Not assigned</td>\n      <td>[Not assigned]</td>\n    </tr>\n    <tr>\n      <th>4</th>\n      <td>M6G</td>\n      <td>Downtown Toronto</td>\n      <td>[Christie]</td>\n    </tr>\n  </tbody>\n</table>\n</div>", 
                        "text/plain": "  Postal Code           Borough                          Neighborhood\n0         M6P      West Toronto       [High Park, The Junction South]\n1         M6L        North York  [Downsview, North Park, Upwood Park]\n2         M2B      Not assigned                        [Not assigned]\n3         M9G      Not assigned                        [Not assigned]\n4         M6G  Downtown Toronto                            [Christie]"
                    }, 
                    "output_type": "execute_result"
                }
            ], 
            "source": "df_toronto = pd.DataFrame(columns=['Postal Code','Borough','Neighborhood'])\n#Generating the pd dataframe\n#Also assigning Borough name as the neighborhood names to the places with neighborhood name given as not assigned\nfor i in dic_post:\n    tmp_list=dic_post[i]\n    neighb_list=tmp_list[1]\n    neighb_list = [w.replace('Not assigned', tmp_list[0]) for w in neighb_list]  #Assigning the boroug name as the neighborhood name for neighborhoods with not assigned\n    df_toronto=df_toronto.append({'Postal Code' : i , 'Borough' : tmp_list[0],'Neighborhood':neighb_list} , ignore_index=True)\ndf_toronto.head()"
        }, 
        {
            "execution_count": 124, 
            "cell_type": "code", 
            "metadata": {}, 
            "outputs": [
                {
                    "execution_count": 124, 
                    "metadata": {}, 
                    "data": {
                        "text/html": "<div>\n<style scoped>\n    .dataframe tbody tr th:only-of-type {\n        vertical-align: middle;\n    }\n\n    .dataframe tbody tr th {\n        vertical-align: top;\n    }\n\n    .dataframe thead th {\n        text-align: right;\n    }\n</style>\n<table border=\"1\" class=\"dataframe\">\n  <thead>\n    <tr style=\"text-align: right;\">\n      <th></th>\n      <th>Postal Code</th>\n      <th>Borough</th>\n      <th>Neighborhood</th>\n    </tr>\n  </thead>\n  <tbody>\n    <tr>\n      <th>0</th>\n      <td>M6P</td>\n      <td>West Toronto</td>\n      <td>[High Park, The Junction South]</td>\n    </tr>\n    <tr>\n      <th>1</th>\n      <td>M6L</td>\n      <td>North York</td>\n      <td>[Downsview, North Park, Upwood Park]</td>\n    </tr>\n    <tr>\n      <th>4</th>\n      <td>M6G</td>\n      <td>Downtown Toronto</td>\n      <td>[Christie]</td>\n    </tr>\n    <tr>\n      <th>5</th>\n      <td>M1L</td>\n      <td>Scarborough</td>\n      <td>[Clairlea, Golden Mile, Oakridge]</td>\n    </tr>\n    <tr>\n      <th>7</th>\n      <td>M2H</td>\n      <td>North York</td>\n      <td>[Hillcrest Village]</td>\n    </tr>\n  </tbody>\n</table>\n</div>", 
                        "text/plain": "  Postal Code           Borough                          Neighborhood\n0         M6P      West Toronto       [High Park, The Junction South]\n1         M6L        North York  [Downsview, North Park, Upwood Park]\n4         M6G  Downtown Toronto                            [Christie]\n5         M1L       Scarborough     [Clairlea, Golden Mile, Oakridge]\n7         M2H        North York                   [Hillcrest Village]"
                    }, 
                    "output_type": "execute_result"
                }
            ], 
            "source": "df_toronto=df_toronto[df_toronto['Borough']!='Not assigned'] #removing all the postal codes that are not assigned\ndf_toronto.head()"
        }, 
        {
            "execution_count": 125, 
            "cell_type": "code", 
            "metadata": {}, 
            "outputs": [], 
            "source": "neighb_tmp=df_toronto['Neighborhood'] #converting the neighborhood column from a list to neighborhood names split by ,\ni=0\nfin_neighb_tmp=[]\nfor i in neighb_tmp:\n    tmp=i\n    fin_neighb_tmp.append(','.join(tmp))\ndf_toronto['Neighborhood']=fin_neighb_tmp"
        }, 
        {
            "execution_count": 126, 
            "cell_type": "code", 
            "metadata": {}, 
            "outputs": [
                {
                    "execution_count": 126, 
                    "metadata": {}, 
                    "data": {
                        "text/html": "<div>\n<style scoped>\n    .dataframe tbody tr th:only-of-type {\n        vertical-align: middle;\n    }\n\n    .dataframe tbody tr th {\n        vertical-align: top;\n    }\n\n    .dataframe thead th {\n        text-align: right;\n    }\n</style>\n<table border=\"1\" class=\"dataframe\">\n  <thead>\n    <tr style=\"text-align: right;\">\n      <th></th>\n      <th>Postal Code</th>\n      <th>Borough</th>\n      <th>Neighborhood</th>\n    </tr>\n  </thead>\n  <tbody>\n    <tr>\n      <th>0</th>\n      <td>M6P</td>\n      <td>West Toronto</td>\n      <td>High Park,The Junction South</td>\n    </tr>\n    <tr>\n      <th>1</th>\n      <td>M6L</td>\n      <td>North York</td>\n      <td>Downsview,North Park,Upwood Park</td>\n    </tr>\n    <tr>\n      <th>4</th>\n      <td>M6G</td>\n      <td>Downtown Toronto</td>\n      <td>Christie</td>\n    </tr>\n    <tr>\n      <th>5</th>\n      <td>M1L</td>\n      <td>Scarborough</td>\n      <td>Clairlea,Golden Mile,Oakridge</td>\n    </tr>\n    <tr>\n      <th>7</th>\n      <td>M2H</td>\n      <td>North York</td>\n      <td>Hillcrest Village</td>\n    </tr>\n  </tbody>\n</table>\n</div>", 
                        "text/plain": "  Postal Code           Borough                      Neighborhood\n0         M6P      West Toronto      High Park,The Junction South\n1         M6L        North York  Downsview,North Park,Upwood Park\n4         M6G  Downtown Toronto                          Christie\n5         M1L       Scarborough     Clairlea,Golden Mile,Oakridge\n7         M2H        North York                 Hillcrest Village"
                    }, 
                    "output_type": "execute_result"
                }
            ], 
            "source": "#final dataframe after wrangling\ndf_toronto.head()"
        }
    ], 
    "metadata": {
        "kernelspec": {
            "display_name": "Python 3.5", 
            "name": "python3", 
            "language": "python"
        }, 
        "language_info": {
            "mimetype": "text/x-python", 
            "nbconvert_exporter": "python", 
            "version": "3.5.5", 
            "name": "python", 
            "file_extension": ".py", 
            "pygments_lexer": "ipython3", 
            "codemirror_mode": {
                "version": 3, 
                "name": "ipython"
            }
        }
    }, 
    "nbformat": 4
}